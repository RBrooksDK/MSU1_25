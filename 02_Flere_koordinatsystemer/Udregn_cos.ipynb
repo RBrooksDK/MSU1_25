{
 "cells": [
  {
   "cell_type": "code",
   "execution_count": null,
   "metadata": {},
   "outputs": [],
   "source": [
    "import numpy as np\n",
    "\n",
    "# Funktion til at beregne cos(theta)\n",
    "def compute_cos_theta(v, p, x):\n",
    "    v = np.array(v)\n",
    "    p = np.array(p)\n",
    "    x = np.array(x)\n",
    "    \n",
    "    diff = x - p\n",
    "    dot_product = np.dot(v, diff)\n",
    "    \n",
    "    norm_v = np.linalg.norm(v)\n",
    "    norm_diff = np.linalg.norm(diff)\n",
    "    \n",
    "    if norm_diff == 0:\n",
    "        return None  # Punktet er præcis hvor NPC'en står\n",
    "    \n",
    "    cos_theta = dot_product / (norm_v * norm_diff)\n",
    "    return cos_theta"
   ]
  },
  {
   "cell_type": "code",
   "execution_count": null,
   "metadata": {},
   "outputs": [],
   "source": [
    "# Definer dine vektorer som lister:\n",
    "\n",
    "v = [5,-2]\n",
    "p = [-3, 4]\n",
    "\n",
    "x = # Indsæt koordinaterne for NPC'en fx [0,0]\n",
    "\n",
    "print(round(compute_cos_theta(v, p, x), 4))"
   ]
  }
 ],
 "metadata": {
  "kernelspec": {
   "display_name": "Python 3",
   "language": "python",
   "name": "python3"
  },
  "language_info": {
   "codemirror_mode": {
    "name": "ipython",
    "version": 3
   },
   "file_extension": ".py",
   "mimetype": "text/x-python",
   "name": "python",
   "nbconvert_exporter": "python",
   "pygments_lexer": "ipython3",
   "version": "3.13.1"
  }
 },
 "nbformat": 4,
 "nbformat_minor": 2
}
