{
 "cells": [
  {
   "cell_type": "code",
   "execution_count": 2,
   "metadata": {},
   "outputs": [
    {
     "name": "stdout",
     "output_type": "stream",
     "text": [
      "Gram matrix:\n",
      " [[ 9.9979282e-01 -1.1850000e-05  2.6470000e-05]\n",
      " [-1.1850000e-05  9.9994021e-01 -1.4970000e-04]\n",
      " [ 2.6470000e-05 -1.4970000e-04  9.9983170e-01]]\n",
      "\n",
      "Is A orthogonal? False\n"
     ]
    }
   ],
   "source": [
    "import numpy as np\n",
    "\n",
    "import numpy as np\n",
    "\n",
    "# Given matrix A\n",
    "A = np.array([[-0.1495, -0.1986, -0.9685],\n",
    "              [-0.8256,  0.5640,  0.0117],\n",
    "              [-0.5439, -0.8015,  0.2484]])\n",
    "\n",
    "# Compute the Gram matrix (A^T A)\n",
    "G = A.T @ A\n",
    "\n",
    "# Compute identity matrix of same size\n",
    "I = np.eye(A.shape[0])\n",
    "\n",
    "# Check if G is close to identity\n",
    "is_orthogonal = np.allclose(G, I)\n",
    "\n",
    "print(\"Gram matrix:\\n\", G)\n",
    "print(\"\\nIs A orthogonal?\", is_orthogonal)\n"
   ]
  }
 ],
 "metadata": {
  "kernelspec": {
   "display_name": "Python 3",
   "language": "python",
   "name": "python3"
  },
  "language_info": {
   "codemirror_mode": {
    "name": "ipython",
    "version": 3
   },
   "file_extension": ".py",
   "mimetype": "text/x-python",
   "name": "python",
   "nbconvert_exporter": "python",
   "pygments_lexer": "ipython3",
   "version": "3.13.1"
  }
 },
 "nbformat": 4,
 "nbformat_minor": 2
}
