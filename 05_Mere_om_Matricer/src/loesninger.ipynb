{
 "cells": [
  {
   "cell_type": "code",
   "execution_count": 3,
   "metadata": {},
   "outputs": [],
   "source": [
    "import numpy as np\n",
    "from sympy import init_printing, Matrix\n",
    "init_printing()\n",
    "from numpy import cos, sin, pi, round"
   ]
  },
  {
   "cell_type": "code",
   "execution_count": 4,
   "metadata": {},
   "outputs": [
    {
     "data": {
      "image/png": "[encoded data removed]",
      "text/latex": [
       "$\\displaystyle 14.0$"
      ],
      "text/plain": [
       "np.float64(14.000000000000004)"
      ]
     },
     "execution_count": 4,
     "metadata": {},
     "output_type": "execute_result"
    }
   ],
   "source": [
    "# Ex 1\n",
    "A = np.array([[3,-2],[1,4]])\n",
    "\n",
    "# Beregn determinanten\n",
    "det_A = np.linalg.det(A)\n",
    "det_A"
   ]
  },
  {
   "cell_type": "code",
   "execution_count": null,
   "metadata": {},
   "outputs": [
    {
     "data": {
      "image/png": "[encoded data removed]",
      "text/latex": [
       "$\\displaystyle \\left( 28.0, \\  \\left[\\begin{matrix}8.0 & 4.0 & 0.0\\\\-2.0 & 6.0 & 0.0\\\\0.0 & 0.0 & 14.0\\end{matrix}\\right], \\  \\left[\\begin{matrix}0.285714285714286 & 0.142857142857143 & 0.0\\\\-0.0714285714285714 & 0.214285714285714 & 0.0\\\\0.0 & 0.0 & 0.5\\end{matrix}\\right]\\right)$"
      ],
      "text/plain": [
       "⎛                   ⎡8.0   4.0  0.0 ⎤  ⎡ 0.285714285714286   0.142857142857143 ↪\n",
       "⎜                   ⎢               ⎥  ⎢                                       ↪\n",
       "⎜28.00000000000001, ⎢-2.0  6.0  0.0 ⎥, ⎢-0.0714285714285714  0.214285714285714 ↪\n",
       "⎜                   ⎢               ⎥  ⎢                                       ↪\n",
       "⎝                   ⎣0.0   0.0  14.0⎦  ⎣        0.0                 0.0        ↪\n",
       "\n",
       "↪   0.0⎤⎞\n",
       "↪      ⎥⎟\n",
       "↪   0.0⎥⎟\n",
       "↪      ⎥⎟\n",
       "↪   0.5⎦⎠"
      ]
     },
     "execution_count": 5,
     "metadata": {},
     "output_type": "execute_result"
    }
   ],
   "source": [
    "# Ex 2 - har vi ikke lavety, men det er opgave 2 i bogen!\n",
    "A = np.array([[3,-2,0],[1,4,0],[0,0,2]])\n",
    "\n",
    "# Beregn determinanten\n",
    "det_A = np.linalg.det(A)\n",
    "\n",
    "# Beregn den adjungerede matrix\n",
    "adj_A = np.linalg.inv(A)*det_A  # Der findes ikke en indbygget funktion til at finde den adjungerede matrix i numpy, så vi gør det manuelt\n",
    "\n",
    "# Beregn den inverse matrix\n",
    "A_inv = adj_A/det_A  # Lidt noller i om med vi lige har brugt .inv(A) til at finde den adjungerede matrix\n",
    "\n",
    "det_A, Matrix(adj_A), Matrix(A_inv)   # Jeg bruger kun SyPy til at printe matricerne pænt"
   ]
  },
  {
   "cell_type": "code",
   "execution_count": null,
   "metadata": {},
   "outputs": [
    {
     "name": "stdout",
     "output_type": "stream",
     "text": [
      "Er matricen ortogonal? True\n"
     ]
    }
   ],
   "source": [
    "# Ex 2\n",
    "\n",
    "M = np.array([[-0.1495,-0.1986,-0.9685],\n",
    "              [-0.8256,0.5640,0.0117],\n",
    "              [-0.5439,-0.8015,0.2484]])\n",
    "\n",
    "G = M.T @ M  # Gram-matricen\n",
    "\n",
    "tolerance = 1e-3  # Definer tolerance for numerisk præcision\n",
    "    \n",
    "# Tjek om G er diagonal (alle ikke-diagonale elementer skal være tæt på 0)\n",
    "is_orthogonal = np.allclose(G - np.diag(np.diagonal(G)), 0, atol=tolerance)\n",
    "\n",
    "# print\n",
    "print(\"Er matricen ortogonal?\", is_orthogonal)"
   ]
  },
  {
   "cell_type": "code",
   "execution_count": null,
   "metadata": {},
   "outputs": [
    {
     "data": {
      "image/png": "[encoded data removed]",
      "text/latex": [
       "$\\displaystyle \\left[\\begin{matrix}1 & 0 & 0 & 0\\\\0 & 1 & 0 & 0\\\\0 & 0 & 1 & 0\\\\4 & 2 & 3 & 1\\end{matrix}\\right]$"
      ],
      "text/plain": [
       "⎡1  0  0  0⎤\n",
       "⎢          ⎥\n",
       "⎢0  1  0  0⎥\n",
       "⎢          ⎥\n",
       "⎢0  0  1  0⎥\n",
       "⎢          ⎥\n",
       "⎣4  2  3  1⎦"
      ]
     },
     "execution_count": 8,
     "metadata": {},
     "output_type": "execute_result"
    }
   ],
   "source": [
    "# Ex 3\n",
    "\n",
    "# Definerer for en søjlevektor\n",
    "def translation_matrix(tx, ty, tz):\n",
    "    \"\"\"Returnerer en 4x4 translationsmatrix.\"\"\"\n",
    "    return np.array([[1, 0, 0, tx],\n",
    "                     [0, 1, 0, ty],\n",
    "                     [0, 0, 1, tz],\n",
    "                     [0, 0, 0, 1]])\n",
    "\n",
    "# Lav den om til en en rækkevektor\n",
    "T = translation_matrix(4, 2, 3).T # Definer et punkt i homogene koordinater\n",
    "\n",
    "Matrix(T)"
   ]
  },
  {
   "cell_type": "code",
   "execution_count": 15,
   "metadata": {},
   "outputs": [
    {
     "data": {
      "image/png": "[encoded data removed]",
      "text/latex": [
       "$\\displaystyle \\left( \\left[\\begin{matrix}1.0 & 0.0 & 0.0 & 0.0\\\\0.0 & 0.939692620785908 & -0.342020143325669 & 0.0\\\\0.0 & 0.342020143325669 & 0.939692620785908 & 0.0\\\\0.0 & 0.0 & 0.0 & 1.0\\end{matrix}\\right], \\  \\left[\\begin{matrix}1 & 0 & 0 & 0\\\\0 & 1 & 0 & 0\\\\0 & 0 & 1 & 0\\\\4 & 2 & 3 & 1\\end{matrix}\\right]\\right)$"
      ],
      "text/plain": [
       "⎛⎡1.0         0.0                0.0          0.0⎤  ⎡1  0  0  0⎤⎞\n",
       "⎜⎢                                               ⎥  ⎢          ⎥⎟\n",
       "⎜⎢0.0  0.939692620785908  -0.342020143325669  0.0⎥  ⎢0  1  0  0⎥⎟\n",
       "⎜⎢                                               ⎥, ⎢          ⎥⎟\n",
       "⎜⎢0.0  0.342020143325669  0.939692620785908   0.0⎥  ⎢0  0  1  0⎥⎟\n",
       "⎜⎢                                               ⎥  ⎢          ⎥⎟\n",
       "⎝⎣0.0         0.0                0.0          1.0⎦  ⎣4  2  3  1⎦⎠"
      ]
     },
     "execution_count": 15,
     "metadata": {},
     "output_type": "execute_result"
    }
   ],
   "source": [
    "# Ex 4\n",
    "\n",
    "def translation_matrix(tx, ty, tz):\n",
    "    \"\"\"Returnerer en 4x4 translationsmatrix.\"\"\"\n",
    "    return np.array([[1, 0, 0, tx],\n",
    "                     [0, 1, 0, ty],\n",
    "                     [0, 0, 1, tz],\n",
    "                     [0, 0, 0, 1]])\n",
    "\n",
    "def rotation_matrix_x(theta):\n",
    "    \"\"\"Returnerer en 4x4 rotationsmatrix om x-aksen.\"\"\"\n",
    "    c, s = np.cos(theta), np.sin(theta)\n",
    "    return np.array([[1, 0,  0, 0],\n",
    "                     [0, c,  s, 0],\n",
    "                     [0, -s, c, 0],\n",
    "                     [0, 0,  0, 1]])\n",
    "\n",
    "# Transformationer\n",
    "T = translation_matrix(4, 2, 3).T   # fordi det er rækker\n",
    "R = rotation_matrix_x(np.radians(20)).T   # fordi det er rækker\n",
    "\n",
    "# Anvend transformationerne\n",
    "transformed = R @ T\n",
    "\n",
    "Matrix(R), Matrix(T)"
   ]
  },
  {
   "cell_type": "code",
   "execution_count": 29,
   "metadata": {},
   "outputs": [
    {
     "data": {
      "image/png": "[encoded data removed]",
      "text/latex": [
       "$\\displaystyle \\left[\\begin{matrix}0.968 & -0.212 & -0.131\\\\0.203 & 0.976 & -0.084\\\\0.146 & 0.054 & 0.988\\end{matrix}\\right]$"
      ],
      "text/plain": [
       "⎡0.968  -0.212  -0.131⎤\n",
       "⎢                     ⎥\n",
       "⎢0.203  0.976   -0.084⎥\n",
       "⎢                     ⎥\n",
       "⎣0.146  0.054   0.988 ⎦"
      ]
     },
     "execution_count": 29,
     "metadata": {},
     "output_type": "execute_result"
    }
   ],
   "source": [
    "# 1.c\n",
    "\n",
    "theta_grad = -15  # vinkel i grader\n",
    "\n",
    "\n",
    "theta = np.radians(theta_grad)  # Vinkel i grader, omregnes til radianer, da np.cos og np.sin forventer radianer\n",
    "cos_theta = np.cos(theta)\n",
    "sin_theta = np.sin(theta)\n",
    "one_minus_cos = 1 - cos_theta\n",
    "\n",
    "np.random.seed(42)\n",
    "v = np.random.randn(3)\n",
    "n = v / np.linalg.norm(v)\n",
    "\n",
    "nx, ny, nz = [0.267, -0.535, 0.802]\n",
    "\n",
    "# Brug bogens/Tutorial 4's formel for rotation om en arbitrær akse\n",
    "Matrix(round(np.array([\n",
    "    [nx**2 * one_minus_cos + cos_theta, nx * ny * one_minus_cos + nz * sin_theta, nx * nz * one_minus_cos - ny * sin_theta],\n",
    "    [nx * ny * one_minus_cos - nz * sin_theta, ny**2 * one_minus_cos + cos_theta, ny * nz * one_minus_cos + nx * sin_theta],\n",
    "    [nx * nz * one_minus_cos + ny * sin_theta, ny * nz * one_minus_cos - nx * sin_theta, nz**2 * one_minus_cos + cos_theta]\n",
    "]), 3))"
   ]
  },
  {
   "cell_type": "code",
   "execution_count": 30,
   "metadata": {},
   "outputs": [
    {
     "data": {
      "image/png": "[encoded data removed]",
      "text/latex": [
       "$\\displaystyle \\left[\\begin{matrix}2 & 0 & 0\\\\0 & 2 & 0\\\\0 & 0 & 2\\end{matrix}\\right]$"
      ],
      "text/plain": [
       "⎡2  0  0⎤\n",
       "⎢       ⎥\n",
       "⎢0  2  0⎥\n",
       "⎢       ⎥\n",
       "⎣0  0  2⎦"
      ]
     },
     "execution_count": 30,
     "metadata": {},
     "output_type": "execute_result"
    }
   ],
   "source": [
    "# 2\n",
    "k = 2 # samme skaleringsfaktor i alle retninger\n",
    "\n",
    "Matrix(np.array([[k, 0, 0], [0, k, 0], [0, 0, k]]))"
   ]
  },
  {
   "cell_type": "code",
   "execution_count": 33,
   "metadata": {},
   "outputs": [
    {
     "data": {
      "image/png": "[encoded data removed]",
      "text/latex": [
       "$\\displaystyle \\left[\\begin{matrix}1.285 & -0.571 & 0.857\\\\-0.571 & 2.145 & -1.716\\\\0.857 & -1.716 & 3.573\\end{matrix}\\right]$"
      ],
      "text/plain": [
       "⎡1.285   -0.571  0.857 ⎤\n",
       "⎢                      ⎥\n",
       "⎢-0.571  2.145   -1.716⎥\n",
       "⎢                      ⎥\n",
       "⎣0.857   -1.716  3.573 ⎦"
      ]
     },
     "execution_count": 33,
     "metadata": {},
     "output_type": "execute_result"
    }
   ],
   "source": [
    "# 3\n",
    "k = 5\n",
    "n = np.array([0.267, -0.535, 0.802])\n",
    "Matrix(round(np.eye(3) + (k-1) * np.outer(n, n), 3))"
   ]
  },
  {
   "cell_type": "code",
   "execution_count": null,
   "metadata": {},
   "outputs": [
    {
     "data": {
      "image/png": "[encoded data removed]",
      "text/latex": [
       "$\\displaystyle \\left[\\begin{matrix}0.929 & 0.143 & -0.214\\\\0.143 & 0.714 & 0.429\\\\-0.214 & 0.429 & 0.357\\end{matrix}\\right]$"
      ],
      "text/plain": [
       "⎡0.929   0.143  -0.214⎤\n",
       "⎢                     ⎥\n",
       "⎢0.143   0.714  0.429 ⎥\n",
       "⎢                     ⎥\n",
       "⎣-0.214  0.429  0.357 ⎦"
      ]
     },
     "execution_count": 34,
     "metadata": {},
     "output_type": "execute_result"
    }
   ],
   "source": [
    "# 4\n",
    "k = 0\n",
    "n = np.array([0.267, -0.535, 0.802])\n",
    "Matrix(round(np.eye(3) + (k-1) * np.outer(n, n), 3))"
   ]
  },
  {
   "cell_type": "code",
   "execution_count": 35,
   "metadata": {},
   "outputs": [
    {
     "data": {
      "image/png": "[encoded data removed]",
      "text/latex": [
       "$\\displaystyle \\left[\\begin{matrix}0.857 & 0.286 & -0.428\\\\0.286 & 0.428 & 0.858\\\\-0.428 & 0.858 & -0.286\\end{matrix}\\right]$"
      ],
      "text/plain": [
       "⎡0.857   0.286  -0.428⎤\n",
       "⎢                     ⎥\n",
       "⎢0.286   0.428  0.858 ⎥\n",
       "⎢                     ⎥\n",
       "⎣-0.428  0.858  -0.286⎦"
      ]
     },
     "execution_count": 35,
     "metadata": {},
     "output_type": "execute_result"
    }
   ],
   "source": [
    "# 5\n",
    "k = -1\n",
    "n = np.array([0.267, -0.535, 0.802])\n",
    "Matrix(round(np.eye(3) + (k-1) * np.outer(n, n), 3))"
   ]
  },
  {
   "cell_type": "code",
   "execution_count": 61,
   "metadata": {},
   "outputs": [
    {
     "data": {
      "image/png": "[encoded data removed]",
      "text/latex": [
       "$\\displaystyle \\left[\\begin{matrix}0.866 & -0.1875 & -0.4635\\\\0 & 0.927 & -0.375\\\\0.5 & 0.32475 & 0.802782\\end{matrix}\\right]$"
      ],
      "text/plain": [
       "⎡0.866  -0.1875  -0.4635 ⎤\n",
       "⎢                        ⎥\n",
       "⎢  0     0.927    -0.375 ⎥\n",
       "⎢                        ⎥\n",
       "⎣ 0.5   0.32475  0.802782⎦"
      ]
     },
     "execution_count": 61,
     "metadata": {},
     "output_type": "execute_result"
    }
   ],
   "source": [
    "# 6a\n",
    "a2 * a1 # det kan jeg gøre fordi det er SymPy matricer"
   ]
  },
  {
   "cell_type": "code",
   "execution_count": 63,
   "metadata": {},
   "outputs": [
    {
     "data": {
      "text/plain": [
       "array([[ 0.866, -0.187, -0.464],\n",
       "       [ 0.   ,  0.927, -0.375],\n",
       "       [ 0.5  ,  0.324,  0.803]])"
      ]
     },
     "execution_count": 63,
     "metadata": {},
     "output_type": "execute_result"
    }
   ],
   "source": [
    "# Antag det var numpy\n",
    "\n",
    "vx = np.radians(-22)\n",
    "vy = np.radians(30)\n",
    "\n",
    "Rx = np.array([[1, 0, 0], [0, cos(vx), sin(vx)], [0, -sin(vx), cos(vx)]])\n",
    "Ry = np.array([[cos(vy), 0, -sin(vy)], [0, 1, 0], [sin(vy), 0, cos(vy)]])\n",
    "\n",
    "np.round(Ry @ Rx, 3) # matrix multiplikation i numpy"
   ]
  },
  {
   "cell_type": "code",
   "execution_count": 65,
   "metadata": {},
   "outputs": [
    {
     "data": {
      "text/plain": [
       "array([[ 0.8660254 ,  0.        ,  0.5       ],\n",
       "       [-0.1873033 ,  0.92718385,  0.32441883],\n",
       "       [-0.46359193, -0.37460659,  0.80296477]])"
      ]
     },
     "execution_count": 65,
     "metadata": {},
     "output_type": "execute_result"
    }
   ],
   "source": [
    "# 6b\n",
    "\n",
    "Rx.T @ Ry.T # matrix multiplikation i numpy"
   ]
  },
  {
   "cell_type": "code",
   "execution_count": 66,
   "metadata": {},
   "outputs": [
    {
     "data": {
      "text/plain": [
       "array([[ 0.866,  0.   ,  0.5  ],\n",
       "       [-0.187,  0.927,  0.324],\n",
       "       [-0.464, -0.375,  0.803]])"
      ]
     },
     "execution_count": 66,
     "metadata": {},
     "output_type": "execute_result"
    }
   ],
   "source": [
    "# 6b\n",
    "np.round((Ry @ Rx).T, 3)"
   ]
  },
  {
   "cell_type": "markdown",
   "metadata": {},
   "source": []
  },
  {
   "cell_type": "code",
   "execution_count": 68,
   "metadata": {},
   "outputs": [
    {
     "data": {
      "text/plain": [
       "array([0.5  , 0.324, 0.803])"
      ]
     },
     "execution_count": 68,
     "metadata": {},
     "output_type": "execute_result"
    }
   ],
   "source": [
    "# 6.c\n",
    "np.round(np.array([0, 0, 1]) @ (Ry @ Rx), 3)"
   ]
  }
 ],
 "metadata": {
  "kernelspec": {
   "display_name": "Python 3",
   "language": "python",
   "name": "python3"
  },
  "language_info": {
   "codemirror_mode": {
    "name": "ipython",
    "version": 3
   },
   "file_extension": ".py",
   "mimetype": "text/x-python",
   "name": "python",
   "nbconvert_exporter": "python",
   "pygments_lexer": "ipython3",
   "version": "3.13.1"
  }
 },
 "nbformat": 4,
 "nbformat_minor": 2
}
