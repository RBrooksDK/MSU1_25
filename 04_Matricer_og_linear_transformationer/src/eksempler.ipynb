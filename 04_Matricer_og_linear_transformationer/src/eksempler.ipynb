{
 "cells": [
  {
   "cell_type": "code",
   "execution_count": 1,
   "metadata": {},
   "outputs": [],
   "source": [
    "import numpy as np\n",
    "from sympy import init_printing, Matrix\n",
    "init_printing()\n",
    "from numpy import cos, sin, pi, round"
   ]
  },
  {
   "cell_type": "code",
   "execution_count": 86,
   "metadata": {},
   "outputs": [
    {
     "data": {
      "image/png": "[encoded data removed]",
      "text/latex": [
       "$\\displaystyle \\left[\\begin{matrix}1.0 & 0 & 0\\\\0 & 0.956 & 0.292\\\\0 & -0.292 & 0.956\\end{matrix}\\right]$"
      ],
      "text/plain": [
       "⎡1.0    0       0  ⎤\n",
       "⎢                  ⎥\n",
       "⎢ 0   0.956   0.292⎥\n",
       "⎢                  ⎥\n",
       "⎣ 0   -0.292  0.956⎦"
      ]
     },
     "execution_count": 86,
     "metadata": {},
     "output_type": "execute_result"
    }
   ],
   "source": [
    "# Rotation om x-aksen\n",
    "v = np.radians(17)  # Vinkel i grader, omregnes til radianer, da np.cos og np.sin forventer radianer\n",
    "\n",
    "Matrix(np.array([[1, 0, 0], [0, cos(v), sin(v)], [0, -sin(v), cos(v)]])).evalf(3)"
   ]
  },
  {
   "cell_type": "code",
   "execution_count": 2,
   "metadata": {},
   "outputs": [],
   "source": [
    "import numpy as np\n",
    "import matplotlib.pyplot as plt\n",
    "from mpl_toolkits.mplot3d import Axes3D\n",
    "\n",
    "# Angle in degrees\n",
    "theta_deg = 17\n",
    "theta = np.radians(theta_deg)\n",
    "\n",
    "# Left-handed rotation around x-axis by +theta\n",
    "# (Positive angles => clockwise when looking along +x)\n",
    "R_x_LH = np.array([\n",
    "    [1,          0,           0],\n",
    "    [0,  np.cos(theta), np.sin(theta)],\n",
    "    [0, -np.sin(theta), np.cos(theta)]\n",
    "])\n"
   ]
  },
  {
   "cell_type": "code",
   "execution_count": 3,
   "metadata": {},
   "outputs": [],
   "source": [
    "# Coordinates of a unit cube centered at (0,0,0)\n",
    "cube_points = np.array([\n",
    "    [-0.5, -0.5, -0.5],\n",
    "    [-0.5, -0.5,  0.5],\n",
    "    [-0.5,  0.5, -0.5],\n",
    "    [-0.5,  0.5,  0.5],\n",
    "    [ 0.5, -0.5, -0.5],\n",
    "    [ 0.5, -0.5,  0.5],\n",
    "    [ 0.5,  0.5, -0.5],\n",
    "    [ 0.5,  0.5,  0.5],\n",
    "])\n"
   ]
  },
  {
   "cell_type": "code",
   "execution_count": 4,
   "metadata": {},
   "outputs": [],
   "source": [
    "# Transpose for easier matrix multiplication (3x3 * 3xN)\n",
    "cube_points_T = cube_points.T\n",
    "rotated_points_T = R_x_LH @ cube_points_T\n",
    "rotated_points = rotated_points_T.T\n"
   ]
  },
  {
   "cell_type": "code",
   "execution_count": 6,
   "metadata": {},
   "outputs": [
    {
     "data": {
      "application/vnd.plotly.v1+json": {
       "config": {
        "plotlyServerURL": "https://plot.ly"
       },
       "data": [
        {
         "line": {
          "color": "blue",
          "width": 4
         },
         "mode": "lines",
         "name": "Original Cube",
         "showlegend": false,
         "type": "scatter3d",
         "x": [
          -0.5,
          -0.5
         ],
         "y": [
          -0.5,
          -0.5
         ],
         "z": [
          -0.5,
          0.5
         ]
        },
        {
         "line": {
          "color": "blue",
          "width": 4
         },
         "mode": "lines",
         "name": "Original Cube",
         "showlegend": false,
         "type": "scatter3d",
         "x": [
          -0.5,
          -0.5
         ],
         "y": [
          -0.5,
          0.5
         ],
         "z": [
          -0.5,
          -0.5
         ]
        },
        {
         "line": {
          "color": "blue",
          "width": 4
         },
         "mode": "lines",
         "name": "Original Cube",
         "showlegend": false,
         "type": "scatter3d",
         "x": [
          -0.5,
          0.5
         ],
         "y": [
          -0.5,
          -0.5
         ],
         "z": [
          -0.5,
          -0.5
         ]
        },
        {
         "line": {
          "color": "blue",
          "width": 4
         },
         "mode": "lines",
         "name": "Original Cube",
         "showlegend": false,
         "type": "scatter3d",
         "x": [
          -0.5,
          -0.5
         ],
         "y": [
          -0.5,
          0.5
         ],
         "z": [
          0.5,
          0.5
         ]
        },
        {
         "line": {
          "color": "blue",
          "width": 4
         },
         "mode": "lines",
         "name": "Original Cube",
         "showlegend": false,
         "type": "scatter3d",
         "x": [
          -0.5,
          0.5
         ],
         "y": [
          -0.5,
          -0.5
         ],
         "z": [
          0.5,
          0.5
         ]
        },
        {
         "line": {
          "color": "blue",
          "width": 4
         },
         "mode": "lines",
         "name": "Original Cube",
         "showlegend": false,
         "type": "scatter3d",
         "x": [
          -0.5,
          -0.5
         ],
         "y": [
          0.5,
          0.5
         ],
         "z": [
          -0.5,
          0.5
         ]
        },
        {
         "line": {
          "color": "blue",
          "width": 4
         },
         "mode": "lines",
         "name": "Original Cube",
         "showlegend": false,
         "type": "scatter3d",
         "x": [
          -0.5,
          0.5
         ],
         "y": [
          0.5,
          0.5
         ],
         "z": [
          -0.5,
          -0.5
         ]
        },
        {
         "line": {
          "color": "blue",
          "width": 4
         },
         "mode": "lines",
         "name": "Original Cube",
         "showlegend": false,
         "type": "scatter3d",
         "x": [
          -0.5,
          0.5
         ],
         "y": [
          0.5,
          0.5
         ],
         "z": [
          0.5,
          0.5
         ]
        },
        {
         "line": {
          "color": "blue",
          "width": 4
         },
         "mode": "lines",
         "name": "Original Cube",
         "showlegend": false,
         "type": "scatter3d",
         "x": [
          0.5,
          0.5
         ],
         "y": [
          -0.5,
          -0.5
         ],
         "z": [
          -0.5,
          0.5
         ]
        },
        {
         "line": {
          "color": "blue",
          "width": 4
         },
         "mode": "lines",
         "name": "Original Cube",
         "showlegend": false,
         "type": "scatter3d",
         "x": [
          0.5,
          0.5
         ],
         "y": [
          -0.5,
          0.5
         ],
         "z": [
          -0.5,
          -0.5
         ]
        },
        {
         "line": {
          "color": "blue",
          "width": 4
         },
         "mode": "lines",
         "name": "Original Cube",
         "showlegend": false,
         "type": "scatter3d",
         "x": [
          0.5,
          0.5
         ],
         "y": [
          -0.5,
          0.5
         ],
         "z": [
          0.5,
          0.5
         ]
        },
        {
         "line": {
          "color": "blue",
          "width": 4
         },
         "mode": "lines",
         "name": "Original Cube",
         "showlegend": false,
         "type": "scatter3d",
         "x": [
          0.5,
          0.5
         ],
         "y": [
          0.5,
          0.5
         ],
         "z": [
          -0.5,
          0.5
         ]
        },
        {
         "line": {
          "color": "red",
          "width": 4
         },
         "mode": "lines",
         "name": "Rotated Cube",
         "showlegend": false,
         "type": "scatter3d",
         "x": [
          -0.5,
          -0.5
         ],
         "y": [
          -0.6243382303428862,
          -0.33196652562014933
         ],
         "z": [
          -0.33196652562014933,
          0.6243382303428862
         ]
        },
        {
         "line": {
          "color": "red",
          "width": 4
         },
         "mode": "lines",
         "name": "Rotated Cube",
         "showlegend": false,
         "type": "scatter3d",
         "x": [
          -0.5,
          -0.5
         ],
         "y": [
          -0.6243382303428862,
          0.33196652562014933
         ],
         "z": [
          -0.33196652562014933,
          -0.6243382303428862
         ]
        },
        {
         "line": {
          "color": "red",
          "width": 4
         },
         "mode": "lines",
         "name": "Rotated Cube",
         "showlegend": false,
         "type": "scatter3d",
         "x": [
          -0.5,
          0.5
         ],
         "y": [
          -0.6243382303428862,
          -0.6243382303428862
         ],
         "z": [
          -0.33196652562014933,
          -0.33196652562014933
         ]
        },
        {
         "line": {
          "color": "red",
          "width": 4
         },
         "mode": "lines",
         "name": "Rotated Cube",
         "showlegend": false,
         "type": "scatter3d",
         "x": [
          -0.5,
          -0.5
         ],
         "y": [
          -0.33196652562014933,
          0.6243382303428862
         ],
         "z": [
          0.6243382303428862,
          0.33196652562014933
         ]
        },
        {
         "line": {
          "color": "red",
          "width": 4
         },
         "mode": "lines",
         "name": "Rotated Cube",
         "showlegend": false,
         "type": "scatter3d",
         "x": [
          -0.5,
          0.5
         ],
         "y": [
          -0.33196652562014933,
          -0.33196652562014933
         ],
         "z": [
          0.6243382303428862,
          0.6243382303428862
         ]
        },
        {
         "line": {
          "color": "red",
          "width": 4
         },
         "mode": "lines",
         "name": "Rotated Cube",
         "showlegend": false,
         "type": "scatter3d",
         "x": [
          -0.5,
          -0.5
         ],
         "y": [
          0.33196652562014933,
          0.6243382303428862
         ],
         "z": [
          -0.6243382303428862,
          0.33196652562014933
         ]
        },
        {
         "line": {
          "color": "red",
          "width": 4
         },
         "mode": "lines",
         "name": "Rotated Cube",
         "showlegend": false,
         "type": "scatter3d",
         "x": [
          -0.5,
          0.5
         ],
         "y": [
          0.33196652562014933,
          0.33196652562014933
         ],
         "z": [
          -0.6243382303428862,
          -0.6243382303428862
         ]
        },
        {
         "line": {
          "color": "red",
          "width": 4
         },
         "mode": "lines",
         "name": "Rotated Cube",
         "showlegend": false,
         "type": "scatter3d",
         "x": [
          -0.5,
          0.5
         ],
         "y": [
          0.6243382303428862,
          0.6243382303428862
         ],
         "z": [
          0.33196652562014933,
          0.33196652562014933
         ]
        },
        {
         "line": {
          "color": "red",
          "width": 4
         },
         "mode": "lines",
         "name": "Rotated Cube",
         "showlegend": false,
         "type": "scatter3d",
         "x": [
          0.5,
          0.5
         ],
         "y": [
          -0.6243382303428862,
          -0.33196652562014933
         ],
         "z": [
          -0.33196652562014933,
          0.6243382303428862
         ]
        },
        {
         "line": {
          "color": "red",
          "width": 4
         },
         "mode": "lines",
         "name": "Rotated Cube",
         "showlegend": false,
         "type": "scatter3d",
         "x": [
          0.5,
          0.5
         ],
         "y": [
          -0.6243382303428862,
          0.33196652562014933
         ],
         "z": [
          -0.33196652562014933,
          -0.6243382303428862
         ]
        },
        {
         "line": {
          "color": "red",
          "width": 4
         },
         "mode": "lines",
         "name": "Rotated Cube",
         "showlegend": false,
         "type": "scatter3d",
         "x": [
          0.5,
          0.5
         ],
         "y": [
          -0.33196652562014933,
          0.6243382303428862
         ],
         "z": [
          0.6243382303428862,
          0.33196652562014933
         ]
        },
        {
         "line": {
          "color": "red",
          "width": 4
         },
         "mode": "lines",
         "name": "Rotated Cube",
         "showlegend": false,
         "type": "scatter3d",
         "x": [
          0.5,
          0.5
         ],
         "y": [
          0.33196652562014933,
          0.6243382303428862
         ],
         "z": [
          -0.6243382303428862,
          0.33196652562014933
         ]
        }
       ],
       "layout": {
        "scene": {
         "aspectmode": "cube",
         "xaxis": {
          "title": {
           "text": "X"
          }
         },
         "yaxis": {
          "title": {
           "text": "Y"
          }
         },
         "zaxis": {
          "title": {
           "text": "Z"
          }
         }
        },
        "template": {
         "data": {
          "bar": [
           {
            "error_x": {
             "color": "#2a3f5f"
            },
            "error_y": {
             "color": "#2a3f5f"
            },
            "marker": {
             "line": {
              "color": "#E5ECF6",
              "width": 0.5
             },
             "pattern": {
              "fillmode": "overlay",
              "size": 10,
              "solidity": 0.2
             }
            },
            "type": "bar"
           }
          ],
          "barpolar": [
           {
            "marker": {
             "line": {
              "color": "#E5ECF6",
              "width": 0.5
             },
             "pattern": {
              "fillmode": "overlay",
              "size": 10,
              "solidity": 0.2
             }
            },
            "type": "barpolar"
           }
          ],
          "carpet": [
           {
            "aaxis": {
             "endlinecolor": "#2a3f5f",
             "gridcolor": "white",
             "linecolor": "white",
             "minorgridcolor": "white",
             "startlinecolor": "#2a3f5f"
            },
            "baxis": {
             "endlinecolor": "#2a3f5f",
             "gridcolor": "white",
             "linecolor": "white",
             "minorgridcolor": "white",
             "startlinecolor": "#2a3f5f"
            },
            "type": "carpet"
           }
          ],
          "choropleth": [
           {
            "colorbar": {
             "outlinewidth": 0,
             "ticks": ""
            },
            "type": "choropleth"
           }
          ],
          "contour": [
           {
            "colorbar": {
             "outlinewidth": 0,
             "ticks": ""
            },
            "colorscale": [
             [
              0,
              "#0d0887"
             ],
             [
              0.1111111111111111,
              "#46039f"
             ],
             [
              0.2222222222222222,
              "#7201a8"
             ],
             [
              0.3333333333333333,
              "#9c179e"
             ],
             [
              0.4444444444444444,
              "#bd3786"
             ],
             [
              0.5555555555555556,
              "#d8576b"
             ],
             [
              0.6666666666666666,
              "#ed7953"
             ],
             [
              0.7777777777777778,
              "#fb9f3a"
             ],
             [
              0.8888888888888888,
              "#fdca26"
             ],
             [
              1,
              "#f0f921"
             ]
            ],
            "type": "contour"
           }
          ],
          "contourcarpet": [
           {
            "colorbar": {
             "outlinewidth": 0,
             "ticks": ""
            },
            "type": "contourcarpet"
           }
          ],
          "heatmap": [
           {
            "colorbar": {
             "outlinewidth": 0,
             "ticks": ""
            },
            "colorscale": [
             [
              0,
              "#0d0887"
             ],
             [
              0.1111111111111111,
              "#46039f"
             ],
             [
              0.2222222222222222,
              "#7201a8"
             ],
             [
              0.3333333333333333,
              "#9c179e"
             ],
             [
              0.4444444444444444,
              "#bd3786"
             ],
             [
              0.5555555555555556,
              "#d8576b"
             ],
             [
              0.6666666666666666,
              "#ed7953"
             ],
             [
              0.7777777777777778,
              "#fb9f3a"
             ],
             [
              0.8888888888888888,
              "#fdca26"
             ],
             [
              1,
              "#f0f921"
             ]
            ],
            "type": "heatmap"
           }
          ],
          "histogram": [
           {
            "marker": {
             "pattern": {
              "fillmode": "overlay",
              "size": 10,
              "solidity": 0.2
             }
            },
            "type": "histogram"
           }
          ],
          "histogram2d": [
           {
            "colorbar": {
             "outlinewidth": 0,
             "ticks": ""
            },
            "colorscale": [
             [
              0,
              "#0d0887"
             ],
             [
              0.1111111111111111,
              "#46039f"
             ],
             [
              0.2222222222222222,
              "#7201a8"
             ],
             [
              0.3333333333333333,
              "#9c179e"
             ],
             [
              0.4444444444444444,
              "#bd3786"
             ],
             [
              0.5555555555555556,
              "#d8576b"
             ],
             [
              0.6666666666666666,
              "#ed7953"
             ],
             [
              0.7777777777777778,
              "#fb9f3a"
             ],
             [
              0.8888888888888888,
              "#fdca26"
             ],
             [
              1,
              "#f0f921"
             ]
            ],
            "type": "histogram2d"
           }
          ],
          "histogram2dcontour": [
           {
            "colorbar": {
             "outlinewidth": 0,
             "ticks": ""
            },
            "colorscale": [
             [
              0,
              "#0d0887"
             ],
             [
              0.1111111111111111,
              "#46039f"
             ],
             [
              0.2222222222222222,
              "#7201a8"
             ],
             [
              0.3333333333333333,
              "#9c179e"
             ],
             [
              0.4444444444444444,
              "#bd3786"
             ],
             [
              0.5555555555555556,
              "#d8576b"
             ],
             [
              0.6666666666666666,
              "#ed7953"
             ],
             [
              0.7777777777777778,
              "#fb9f3a"
             ],
             [
              0.8888888888888888,
              "#fdca26"
             ],
             [
              1,
              "#f0f921"
             ]
            ],
            "type": "histogram2dcontour"
           }
          ],
          "mesh3d": [
           {
            "colorbar": {
             "outlinewidth": 0,
             "ticks": ""
            },
            "type": "mesh3d"
           }
          ],
          "parcoords": [
           {
            "line": {
             "colorbar": {
              "outlinewidth": 0,
              "ticks": ""
             }
            },
            "type": "parcoords"
           }
          ],
          "pie": [
           {
            "automargin": true,
            "type": "pie"
           }
          ],
          "scatter": [
           {
            "fillpattern": {
             "fillmode": "overlay",
             "size": 10,
             "solidity": 0.2
            },
            "type": "scatter"
           }
          ],
          "scatter3d": [
           {
            "line": {
             "colorbar": {
              "outlinewidth": 0,
              "ticks": ""
             }
            },
            "marker": {
             "colorbar": {
              "outlinewidth": 0,
              "ticks": ""
             }
            },
            "type": "scatter3d"
           }
          ],
          "scattercarpet": [
           {
            "marker": {
             "colorbar": {
              "outlinewidth": 0,
              "ticks": ""
             }
            },
            "type": "scattercarpet"
           }
          ],
          "scattergeo": [
           {
            "marker": {
             "colorbar": {
              "outlinewidth": 0,
              "ticks": ""
             }
            },
            "type": "scattergeo"
           }
          ],
          "scattergl": [
           {
            "marker": {
             "colorbar": {
              "outlinewidth": 0,
              "ticks": ""
             }
            },
            "type": "scattergl"
           }
          ],
          "scattermap": [
           {
            "marker": {
             "colorbar": {
              "outlinewidth": 0,
              "ticks": ""
             }
            },
            "type": "scattermap"
           }
          ],
          "scattermapbox": [
           {
            "marker": {
             "colorbar": {
              "outlinewidth": 0,
              "ticks": ""
             }
            },
            "type": "scattermapbox"
           }
          ],
          "scatterpolar": [
           {
            "marker": {
             "colorbar": {
              "outlinewidth": 0,
              "ticks": ""
             }
            },
            "type": "scatterpolar"
           }
          ],
          "scatterpolargl": [
           {
            "marker": {
             "colorbar": {
              "outlinewidth": 0,
              "ticks": ""
             }
            },
            "type": "scatterpolargl"
           }
          ],
          "scatterternary": [
           {
            "marker": {
             "colorbar": {
              "outlinewidth": 0,
              "ticks": ""
             }
            },
            "type": "scatterternary"
           }
          ],
          "surface": [
           {
            "colorbar": {
             "outlinewidth": 0,
             "ticks": ""
            },
            "colorscale": [
             [
              0,
              "#0d0887"
             ],
             [
              0.1111111111111111,
              "#46039f"
             ],
             [
              0.2222222222222222,
              "#7201a8"
             ],
             [
              0.3333333333333333,
              "#9c179e"
             ],
             [
              0.4444444444444444,
              "#bd3786"
             ],
             [
              0.5555555555555556,
              "#d8576b"
             ],
             [
              0.6666666666666666,
              "#ed7953"
             ],
             [
              0.7777777777777778,
              "#fb9f3a"
             ],
             [
              0.8888888888888888,
              "#fdca26"
             ],
             [
              1,
              "#f0f921"
             ]
            ],
            "type": "surface"
           }
          ],
          "table": [
           {
            "cells": {
             "fill": {
              "color": "#EBF0F8"
             },
             "line": {
              "color": "white"
             }
            },
            "header": {
             "fill": {
              "color": "#C8D4E3"
             },
             "line": {
              "color": "white"
             }
            },
            "type": "table"
           }
          ]
         },
         "layout": {
          "annotationdefaults": {
           "arrowcolor": "#2a3f5f",
           "arrowhead": 0,
           "arrowwidth": 1
          },
          "autotypenumbers": "strict",
          "coloraxis": {
           "colorbar": {
            "outlinewidth": 0,
            "ticks": ""
           }
          },
          "colorscale": {
           "diverging": [
            [
             0,
             "#8e0152"
            ],
            [
             0.1,
             "#c51b7d"
            ],
            [
             0.2,
             "#de77ae"
            ],
            [
             0.3,
             "#f1b6da"
            ],
            [
             0.4,
             "#fde0ef"
            ],
            [
             0.5,
             "#f7f7f7"
            ],
            [
             0.6,
             "#e6f5d0"
            ],
            [
             0.7,
             "#b8e186"
            ],
            [
             0.8,
             "#7fbc41"
            ],
            [
             0.9,
             "#4d9221"
            ],
            [
             1,
             "#276419"
            ]
           ],
           "sequential": [
            [
             0,
             "#0d0887"
            ],
            [
             0.1111111111111111,
             "#46039f"
            ],
            [
             0.2222222222222222,
             "#7201a8"
            ],
            [
             0.3333333333333333,
             "#9c179e"
            ],
            [
             0.4444444444444444,
             "#bd3786"
            ],
            [
             0.5555555555555556,
             "#d8576b"
            ],
            [
             0.6666666666666666,
             "#ed7953"
            ],
            [
             0.7777777777777778,
             "#fb9f3a"
            ],
            [
             0.8888888888888888,
             "#fdca26"
            ],
            [
             1,
             "#f0f921"
            ]
           ],
           "sequentialminus": [
            [
             0,
             "#0d0887"
            ],
            [
             0.1111111111111111,
             "#46039f"
            ],
            [
             0.2222222222222222,
             "#7201a8"
            ],
            [
             0.3333333333333333,
             "#9c179e"
            ],
            [
             0.4444444444444444,
             "#bd3786"
            ],
            [
             0.5555555555555556,
             "#d8576b"
            ],
            [
             0.6666666666666666,
             "#ed7953"
            ],
            [
             0.7777777777777778,
             "#fb9f3a"
            ],
            [
             0.8888888888888888,
             "#fdca26"
            ],
            [
             1,
             "#f0f921"
            ]
           ]
          },
          "colorway": [
           "#636efa",
           "#EF553B",
           "#00cc96",
           "#ab63fa",
           "#FFA15A",
           "#19d3f3",
           "#FF6692",
           "#B6E880",
           "#FF97FF",
           "#FECB52"
          ],
          "font": {
           "color": "#2a3f5f"
          },
          "geo": {
           "bgcolor": "white",
           "lakecolor": "white",
           "landcolor": "#E5ECF6",
           "showlakes": true,
           "showland": true,
           "subunitcolor": "white"
          },
          "hoverlabel": {
           "align": "left"
          },
          "hovermode": "closest",
          "mapbox": {
           "style": "light"
          },
          "paper_bgcolor": "white",
          "plot_bgcolor": "#E5ECF6",
          "polar": {
           "angularaxis": {
            "gridcolor": "white",
            "linecolor": "white",
            "ticks": ""
           },
           "bgcolor": "#E5ECF6",
           "radialaxis": {
            "gridcolor": "white",
            "linecolor": "white",
            "ticks": ""
           }
          },
          "scene": {
           "xaxis": {
            "backgroundcolor": "#E5ECF6",
            "gridcolor": "white",
            "gridwidth": 2,
            "linecolor": "white",
            "showbackground": true,
            "ticks": "",
            "zerolinecolor": "white"
           },
           "yaxis": {
            "backgroundcolor": "#E5ECF6",
            "gridcolor": "white",
            "gridwidth": 2,
            "linecolor": "white",
            "showbackground": true,
            "ticks": "",
            "zerolinecolor": "white"
           },
           "zaxis": {
            "backgroundcolor": "#E5ECF6",
            "gridcolor": "white",
            "gridwidth": 2,
            "linecolor": "white",
            "showbackground": true,
            "ticks": "",
            "zerolinecolor": "white"
           }
          },
          "shapedefaults": {
           "line": {
            "color": "#2a3f5f"
           }
          },
          "ternary": {
           "aaxis": {
            "gridcolor": "white",
            "linecolor": "white",
            "ticks": ""
           },
           "baxis": {
            "gridcolor": "white",
            "linecolor": "white",
            "ticks": ""
           },
           "bgcolor": "#E5ECF6",
           "caxis": {
            "gridcolor": "white",
            "linecolor": "white",
            "ticks": ""
           }
          },
          "title": {
           "x": 0.05
          },
          "xaxis": {
           "automargin": true,
           "gridcolor": "white",
           "linecolor": "white",
           "ticks": "",
           "title": {
            "standoff": 15
           },
           "zerolinecolor": "white",
           "zerolinewidth": 2
          },
          "yaxis": {
           "automargin": true,
           "gridcolor": "white",
           "linecolor": "white",
           "ticks": "",
           "title": {
            "standoff": 15
           },
           "zerolinecolor": "white",
           "zerolinewidth": 2
          }
         }
        },
        "title": {
         "text": "Wireframe Cube Rotated 17° (LH, Y-Up)"
        }
       }
      }
     },
     "metadata": {},
     "output_type": "display_data"
    }
   ],
   "source": [
    "import numpy as np\n",
    "import plotly.graph_objects as go\n",
    "\n",
    "# ---------------------------------------------\n",
    "# 1) Define Cube and Its Edges\n",
    "# ---------------------------------------------\n",
    "cube_points = np.array([\n",
    "    [-0.5, -0.5, -0.5],\n",
    "    [-0.5, -0.5,  0.5],\n",
    "    [-0.5,  0.5, -0.5],\n",
    "    [-0.5,  0.5,  0.5],\n",
    "    [ 0.5, -0.5, -0.5],\n",
    "    [ 0.5, -0.5,  0.5],\n",
    "    [ 0.5,  0.5, -0.5],\n",
    "    [ 0.5,  0.5,  0.5],\n",
    "])\n",
    "\n",
    "# Each pair (i, j) denotes an edge from cube_points[i] to cube_points[j]\n",
    "edges = [\n",
    "    (0,1), (0,2), (0,4),   # edges from corner 0\n",
    "    (1,3), (1,5),          # edges from corner 1\n",
    "    (2,3), (2,6),          # edges from corner 2\n",
    "    (3,7),                 # edges from corner 3\n",
    "    (4,5), (4,6),          # edges from corner 4\n",
    "    (5,7),                 # edges from corner 5\n",
    "    (6,7)                  # edges from corner 6\n",
    "]\n",
    "\n",
    "\n",
    "def make_wireframe_traces(points, edge_list, color=\"blue\", name=\"Cube\"):\n",
    "    \"\"\"\n",
    "    Returns a list of Plotly Scatter3d traces corresponding to\n",
    "    the wireframe defined by (points, edges).\n",
    "    \"\"\"\n",
    "    traces = []\n",
    "    for i, j in edge_list:\n",
    "        # Two endpoints of the current edge\n",
    "        x_coords = [points[i,0], points[j,0]]\n",
    "        y_coords = [points[i,1], points[j,1]]\n",
    "        z_coords = [points[i,2], points[j,2]]\n",
    "        \n",
    "        traces.append(\n",
    "            go.Scatter3d(\n",
    "                x=x_coords,\n",
    "                y=y_coords,\n",
    "                z=z_coords,\n",
    "                mode='lines',\n",
    "                line=dict(color=color, width=4),\n",
    "                name=name,\n",
    "                showlegend=False  # We'll set a name just once\n",
    "            )\n",
    "        )\n",
    "    return traces\n",
    "\n",
    "# ---------------------------------------------\n",
    "# 2) Define Your Rotation Matrix (Left-Handed, Y-Up)\n",
    "#    Example: Rotation around X-axis by +17°\n",
    "# ---------------------------------------------\n",
    "def rotation_matrix_x_lh(deg):\n",
    "    theta = np.radians(deg)\n",
    "    # Left-handed rotation about X by +theta\n",
    "    # (clockwise if looking in +X direction)\n",
    "    return np.array([\n",
    "        [1,            0,             0],\n",
    "        [0,  np.cos(theta),  np.sin(theta)],\n",
    "        [0, -np.sin(theta),  np.cos(theta)]\n",
    "    ])\n",
    "\n",
    "# ---------------------------------------------\n",
    "# 3) Apply the Rotation\n",
    "# ---------------------------------------------\n",
    "angle = 17\n",
    "R_x_LH = rotation_matrix_x_lh(angle)\n",
    "\n",
    "# Rotate all cube_points\n",
    "cube_points_T = cube_points.T           # shape (3, N)\n",
    "rotated_points_T = R_x_LH @ cube_points_T\n",
    "rotated_points = rotated_points_T.T\n",
    "\n",
    "# ---------------------------------------------\n",
    "# 4) Create the Plotly Figure\n",
    "#    - One set of traces for the original (blue)\n",
    "#    - One set of traces for the rotated (red)\n",
    "# ---------------------------------------------\n",
    "original_traces = make_wireframe_traces(cube_points, edges, color=\"blue\", name=\"Original Cube\")\n",
    "rotated_traces  = make_wireframe_traces(rotated_points, edges, color=\"red\",  name=\"Rotated Cube\")\n",
    "\n",
    "fig = go.Figure(data=original_traces + rotated_traces)\n",
    "\n",
    "fig.update_layout(\n",
    "    scene = dict(\n",
    "        xaxis_title=\"X\",\n",
    "        yaxis_title=\"Y\",\n",
    "        zaxis_title=\"Z\",\n",
    "        aspectmode=\"cube\",   # ensures the axes are the same scale\n",
    "    ),\n",
    "    title=f\"Wireframe Cube Rotated {angle}° (LH, Y-Up)\"\n",
    ")\n",
    "\n",
    "fig.show()\n"
   ]
  },
  {
   "cell_type": "markdown",
   "metadata": {},
   "source": [
    "#### Forklaring:\n",
    "Jeg bruger NumPy til at alle beregninger og så placerer jeg det i en SymPy Matrix da det ser pænere ud. Det behøver I ikke at gøre.`evalf()` er en metode i SymPy, der evaluerer et udtryk numerisk så outputtet er et decimaltal. Jeg bruger det til at konvertere outputtet til en float så jeg kan angive det med 3 decimaler. Her er det rene Numpy output."
   ]
  },
  {
   "cell_type": "code",
   "execution_count": 89,
   "metadata": {},
   "outputs": [
    {
     "data": {
      "text/plain": [
       "array([[ 1.   ,  0.   ,  0.   ],\n",
       "       [ 0.   ,  0.956,  0.292],\n",
       "       [ 0.   , -0.292,  0.956]])"
      ]
     },
     "execution_count": 89,
     "metadata": {},
     "output_type": "execute_result"
    }
   ],
   "source": [
    "round(np.array([[1, 0, 0], [0, cos(v), sin(v)], [0, -sin(v), cos(v)]]), 3)"
   ]
  },
  {
   "cell_type": "code",
   "execution_count": 90,
   "metadata": {},
   "outputs": [
    {
     "data": {
      "image/png": "[encoded data removed]",
      "text/latex": [
       "$\\displaystyle \\left[\\begin{matrix}1.0 & 0.0 & 0.0\\\\0.0 & 0.956 & 0.292\\\\0.0 & -0.292 & 0.956\\end{matrix}\\right]$"
      ],
      "text/plain": [
       "⎡1.0   0.0     0.0 ⎤\n",
       "⎢                  ⎥\n",
       "⎢0.0  0.956   0.292⎥\n",
       "⎢                  ⎥\n",
       "⎣0.0  -0.292  0.956⎦"
      ]
     },
     "execution_count": 90,
     "metadata": {},
     "output_type": "execute_result"
    }
   ],
   "source": [
    "Matrix(round(np.array([[1, 0, 0], [0, cos(v), sin(v)], [0, -sin(v), cos(v)]]), 3))"
   ]
  },
  {
   "cell_type": "code",
   "execution_count": 106,
   "metadata": {},
   "outputs": [
    {
     "data": {
      "image/png": "[encoded data removed]",
      "text/latex": [
       "$\\displaystyle \\left[\\begin{matrix}0.956 & 0.0 & -0.292\\\\0.0 & 1.0 & 0.0\\\\0.292 & 0.0 & 0.956\\end{matrix}\\right]$"
      ],
      "text/plain": [
       "⎡0.956  0.0  -0.292⎤\n",
       "⎢                  ⎥\n",
       "⎢ 0.0   1.0   0.0  ⎥\n",
       "⎢                  ⎥\n",
       "⎣0.292  0.0  0.956 ⎦"
      ]
     },
     "execution_count": 106,
     "metadata": {},
     "output_type": "execute_result"
    }
   ],
   "source": [
    "# Rotation om y-aksen\n",
    "v = np.radians(17)  # Vinkel i grader, omregnes til radianer, da np.cos og np.sin forventer radianer\n",
    "\n",
    "Matrix(np.round(np.array([[cos(v), 0, -sin(v)], [0, 1, 0], [sin(v), 0, cos(v)]]), 3))"
   ]
  },
  {
   "cell_type": "code",
   "execution_count": 24,
   "metadata": {},
   "outputs": [
    {
     "data": {
      "image/png": "[encoded data removed]",
      "text/latex": [
       "$\\displaystyle \\left[\\begin{matrix}0.96 & 0.29 & 0\\\\-0.29 & 0.96 & 0\\\\0 & 0 & 1.0\\end{matrix}\\right]$"
      ],
      "text/plain": [
       "⎡0.96   0.29   0 ⎤\n",
       "⎢                ⎥\n",
       "⎢-0.29  0.96   0 ⎥\n",
       "⎢                ⎥\n",
       "⎣  0     0    1.0⎦"
      ]
     },
     "execution_count": 24,
     "metadata": {},
     "output_type": "execute_result"
    }
   ],
   "source": [
    "# Rotation om z-aksen\n",
    "v = np.radians(17)  # Vinkel i grader, omregnes til radianer, da np.cos og np.sin forventer radianer\n",
    "\n",
    "Matrix(np.array([[cos(v), sin(v), 0], [-sin(v), cos(v), 0], [0, 0, 1]])).evalf(2)"
   ]
  },
  {
   "cell_type": "code",
   "execution_count": null,
   "metadata": {},
   "outputs": [],
   "source": [
    "# Rotation om vilkårlig akse"
   ]
  },
  {
   "cell_type": "markdown",
   "metadata": {},
   "source": [
    "I bogen (og i Tutorial 4) står følgende:\n",
    "\n",
    "$R(\\hat{n}, \\theta)=\\left[\\begin{array}{ccc}n_x^2(1-\\cos \\theta)+\\cos \\theta & n_x n_{v_2}(1-\\cos \\theta)+n_x \\sin \\theta & n_x n_x(1-\\cos \\theta)-n_y \\sin \\theta \\\\ n_x n_y(1-\\cos \\theta)-n_x \\sin \\theta & n_y(1-\\cos \\theta)+\\cos \\theta & n_y n_x(1-\\cos \\theta)+n_x \\sin \\theta \\\\ n_x n_x(1-\\cos \\theta)+n_y \\sin \\theta & n_y n_x(1-\\cos \\theta)-n_x \\sin \\theta & n_x(1-\\cos \\theta)+\\cos \\theta\\end{array}\\right]$.\n",
    "\n",
    "Den kan man implementere som følger:"
   ]
  },
  {
   "cell_type": "code",
   "execution_count": 104,
   "metadata": {},
   "outputs": [
    {
     "data": {
      "image/png": "[encoded data removed]",
      "text/latex": [
       "$\\displaystyle \\left[\\begin{matrix}0.972 & 0.224 & 0.069\\\\-0.233 & 0.958 & 0.17\\\\-0.028 & -0.181 & 0.983\\end{matrix}\\right]$"
      ],
      "text/plain": [
       "⎡0.972   0.224   0.069⎤\n",
       "⎢                     ⎥\n",
       "⎢-0.233  0.958   0.17 ⎥\n",
       "⎢                     ⎥\n",
       "⎣-0.028  -0.181  0.983⎦"
      ]
     },
     "execution_count": 104,
     "metadata": {},
     "output_type": "execute_result"
    }
   ],
   "source": [
    "theta_grad = 17  # vinkel i grader\n",
    "\n",
    "\n",
    "theta = np.radians(theta_grad)  # Vinkel i grader, omregnes til radianer, da np.cos og np.sin forventer radianer\n",
    "cos_theta = np.cos(theta)\n",
    "sin_theta = np.sin(theta)\n",
    "one_minus_cos = 1 - cos_theta\n",
    "\n",
    "np.random.seed(42)\n",
    "v = np.random.randn(3)\n",
    "n = v / np.linalg.norm(v)\n",
    "\n",
    "nx, ny, nz = n  # udtræk indgange i n\n",
    "\n",
    "# Brug bogens/Tutorial 4's formel for rotation om en arbitrær akse\n",
    "Matrix(round(np.array([\n",
    "    [nx**2 * one_minus_cos + cos_theta, nx * ny * one_minus_cos + nz * sin_theta, nx * nz * one_minus_cos - ny * sin_theta],\n",
    "    [nx * ny * one_minus_cos - nz * sin_theta, ny**2 * one_minus_cos + cos_theta, ny * nz * one_minus_cos + nx * sin_theta],\n",
    "    [nx * nz * one_minus_cos + ny * sin_theta, ny * nz * one_minus_cos - nx * sin_theta, nz**2 * one_minus_cos + cos_theta]\n",
    "]), 3))\n"
   ]
  },
  {
   "cell_type": "code",
   "execution_count": null,
   "metadata": {},
   "outputs": [
    {
     "data": {
      "image/png": "[encoded data removed]",
      "text/latex": [
       "$\\displaystyle \\left[\\begin{matrix}4 & 0 & 0\\\\0 & 4 & 0\\\\0 & 0 & 4\\end{matrix}\\right]$"
      ],
      "text/plain": [
       "⎡4  0  0⎤\n",
       "⎢       ⎥\n",
       "⎢0  4  0⎥\n",
       "⎢       ⎥\n",
       "⎣0  0  4⎦"
      ]
     },
     "execution_count": 26,
     "metadata": {},
     "output_type": "execute_result"
    }
   ],
   "source": [
    "# Skalering: Samme i alle retninger\n",
    "\n",
    "k = 4 # samme skaleringsfaktor i alle retninger\n",
    "\n",
    "Matrix(np.array([[k, 0, 0], [0, k, 0], [0, 0, k]]))"
   ]
  },
  {
   "cell_type": "code",
   "execution_count": 27,
   "metadata": {},
   "outputs": [
    {
     "data": {
      "image/png": "[encoded data removed]",
      "text/latex": [
       "$\\displaystyle \\left[\\begin{matrix}2 & 0 & 0\\\\0 & 3 & 0\\\\0 & 0 & 4\\end{matrix}\\right]$"
      ],
      "text/plain": [
       "⎡2  0  0⎤\n",
       "⎢       ⎥\n",
       "⎢0  3  0⎥\n",
       "⎢       ⎥\n",
       "⎣0  0  4⎦"
      ]
     },
     "execution_count": 27,
     "metadata": {},
     "output_type": "execute_result"
    }
   ],
   "source": [
    "# Skalering: Forskellige skaleringer i forskellige retninger\n",
    "\n",
    "a = 2 # Skalering i x-retning\n",
    "b = 3 # Skalering i y-retning\n",
    "c = 4 # Skalering i z-retning\n",
    "\n",
    "Matrix(np.array([[a, 0, 0], [0, b, 0], [0, 0, c]]))"
   ]
  },
  {
   "cell_type": "code",
   "execution_count": null,
   "metadata": {},
   "outputs": [],
   "source": [
    "# Konstruer en matrix, der skalerers med en faktor 3 omkring planet gennem origo, som er vinkelret på v"
   ]
  },
  {
   "cell_type": "markdown",
   "metadata": {},
   "source": [
    "I bogen (og i Tutorial 4) står følgende:\n",
    "\n",
    "$$\n",
    "S(\\hat{n}, k)=\\left[\\begin{array}{ccc}\n",
    "1+(k-1) n_x^2 & (k-1) n_x n_y & (k-1) n_x n_z \\\\\n",
    "(k-1) n_x n_y & 1+(k-1) n_y^2 & (k-1) n_y n_z \\\\\n",
    "(k-1) n_x n_z & (k-1) n_y n_z & 1+(k-1) n_z^2\n",
    "\\end{array}\\right]\n",
    "$$\n",
    "\n",
    "All 1-tallerne kan placeres i en 3x3 identitetsmatrix og vi kan sætte $k-1$ uden for, så vi kan skrive det som:\n",
    "\n",
    "$$\n",
    "S(\\hat{n}, k)=\n",
    "\\left[\\begin{array}{lll}\n",
    "1 & 0 & 0 \\\\\n",
    "0 & 1 & 0 \\\\\n",
    "0 & 0 & 1\n",
    "\\end{array}\\right] +(k-1) \\left[\\begin{array}{ccc}\n",
    "n_x^2 & n_x n_y & n_x n_z \\\\\n",
    "n_x n_y & n_y^2 & n_y n_z \\\\\n",
    "n_x n_z & n_y n_z & n_z^2\n",
    "\\end{array}\\right]$$\n",
    "\n",
    "Hvis vi undersøger den sidste matrix, følger den et helt bestemt mønster, nemlig at den er en ydreprodukt af $\\hat{n}$ med sig selv. Dette kan vi skrive som:\n",
    "\n",
    "$$S(\\hat{n}, k)=I+(k-1) \\hat{n} \\hat{n}^T$$\n",
    "\n",
    "Det betyder vi kan beregne disse problemer ret hurtigt."
   ]
  },
  {
   "cell_type": "code",
   "execution_count": 92,
   "metadata": {},
   "outputs": [
    {
     "data": {
      "image/png": "[encoded data removed]",
      "text/latex": [
       "$\\displaystyle \\left[\\begin{matrix}1.72 & -0.2 & 0.939\\\\-0.2 & 1.056 & -0.261\\\\0.939 & -0.261 & 2.224\\end{matrix}\\right]$"
      ],
      "text/plain": [
       "⎡1.72    -0.2   0.939 ⎤\n",
       "⎢                     ⎥\n",
       "⎢-0.2   1.056   -0.261⎥\n",
       "⎢                     ⎥\n",
       "⎣0.939  -0.261  2.224 ⎦"
      ]
     },
     "execution_count": 92,
     "metadata": {},
     "output_type": "execute_result"
    }
   ],
   "source": [
    "np.random.seed(42)\n",
    "v = np.random.randn(3)\n",
    "n = v / np.linalg.norm(v)\n",
    "k = 3\n",
    "\n",
    "v, n\n",
    "\n",
    "Matrix(round(np.eye(3) + (k-1) * np.outer(n, n), 3))"
   ]
  },
  {
   "cell_type": "markdown",
   "metadata": {},
   "source": [
    "Husk at ortografisk projektion blot er ovenstående med $k=0$ og at ortografisk spejling er ovenstående med $k=-1$."
   ]
  }
 ],
 "metadata": {
  "kernelspec": {
   "display_name": "Python 3",
   "language": "python",
   "name": "python3"
  },
  "language_info": {
   "codemirror_mode": {
    "name": "ipython",
    "version": 3
   },
   "file_extension": ".py",
   "mimetype": "text/x-python",
   "name": "python",
   "nbconvert_exporter": "python",
   "pygments_lexer": "ipython3",
   "version": "3.13.1"
  }
 },
 "nbformat": 4,
 "nbformat_minor": 2
}
