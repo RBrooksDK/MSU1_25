{
 "cells": [
  {
   "cell_type": "code",
   "execution_count": 24,
   "metadata": {},
   "outputs": [],
   "source": [
    "import numpy as np\n",
    "from sympy import init_printing, Matrix\n",
    "init_printing()\n",
    "from numpy import cos, sin, pi, round"
   ]
  },
  {
   "cell_type": "code",
   "execution_count": 36,
   "metadata": {},
   "outputs": [
    {
     "data": {
      "image/png": "[encoded data removed]",
      "text/latex": [
       "$\\displaystyle \\left[\\begin{matrix}1.0 & 0.0 & 0.0\\\\0.0 & 0.927 & -0.375\\\\0.0 & 0.375 & 0.927\\end{matrix}\\right]$"
      ],
      "text/plain": [
       "⎡1.0   0.0    0.0  ⎤\n",
       "⎢                  ⎥\n",
       "⎢0.0  0.927  -0.375⎥\n",
       "⎢                  ⎥\n",
       "⎣0.0  0.375  0.927 ⎦"
      ]
     },
     "execution_count": 36,
     "metadata": {},
     "output_type": "execute_result"
    }
   ],
   "source": [
    "# 1.a\n",
    "v = np.radians(-22)\n",
    "\n",
    "a1 = Matrix(np.round(np.array([[1, 0, 0], [0, cos(v), sin(v)], [0, -sin(v), cos(v)]]), 3))\n",
    "a1"
   ]
  },
  {
   "cell_type": "code",
   "execution_count": 60,
   "metadata": {},
   "outputs": [
    {
     "data": {
      "image/png": "[encoded data removed]",
      "text/latex": [
       "$\\displaystyle \\left[\\begin{matrix}0.866 & 0.0 & -0.5\\\\0.0 & 1.0 & 0.0\\\\0.5 & 0.0 & 0.866\\end{matrix}\\right]$"
      ],
      "text/plain": [
       "⎡0.866  0.0  -0.5 ⎤\n",
       "⎢                 ⎥\n",
       "⎢ 0.0   1.0   0.0 ⎥\n",
       "⎢                 ⎥\n",
       "⎣ 0.5   0.0  0.866⎦"
      ]
     },
     "execution_count": 60,
     "metadata": {},
     "output_type": "execute_result"
    }
   ],
   "source": [
    "# 1.b\n",
    "# Rotation om y-aksen\n",
    "v = np.radians(30)  # Vinkel i grader, omregnes til radianer, da np.cos og np.sin forventer radianer\n",
    "\n",
    "a2 = Matrix(np.round(np.array([[cos(v), 0, -sin(v)], [0, 1, 0], [sin(v), 0, cos(v)]]), 3))\n",
    "a2\n"
   ]
  },
  {
   "cell_type": "code",
   "execution_count": 29,
   "metadata": {},
   "outputs": [
    {
     "data": {
      "image/png": "[encoded data removed]",
      "text/latex": [
       "$\\displaystyle \\left[\\begin{matrix}0.968 & -0.212 & -0.131\\\\0.203 & 0.976 & -0.084\\\\0.146 & 0.054 & 0.988\\end{matrix}\\right]$"
      ],
      "text/plain": [
       "⎡0.968  -0.212  -0.131⎤\n",
       "⎢                     ⎥\n",
       "⎢0.203  0.976   -0.084⎥\n",
       "⎢                     ⎥\n",
       "⎣0.146  0.054   0.988 ⎦"
      ]
     },
     "execution_count": 29,
     "metadata": {},
     "output_type": "execute_result"
    }
   ],
   "source": [
    "# 1.c\n",
    "\n",
    "theta_grad = -15  # vinkel i grader\n",
    "\n",
    "\n",
    "theta = np.radians(theta_grad)  # Vinkel i grader, omregnes til radianer, da np.cos og np.sin forventer radianer\n",
    "cos_theta = np.cos(theta)\n",
    "sin_theta = np.sin(theta)\n",
    "one_minus_cos = 1 - cos_theta\n",
    "\n",
    "np.random.seed(42)\n",
    "v = np.random.randn(3)\n",
    "n = v / np.linalg.norm(v)\n",
    "\n",
    "nx, ny, nz = [0.267, -0.535, 0.802]\n",
    "\n",
    "# Brug bogens/Tutorial 4's formel for rotation om en arbitrær akse\n",
    "Matrix(round(np.array([\n",
    "    [nx**2 * one_minus_cos + cos_theta, nx * ny * one_minus_cos + nz * sin_theta, nx * nz * one_minus_cos - ny * sin_theta],\n",
    "    [nx * ny * one_minus_cos - nz * sin_theta, ny**2 * one_minus_cos + cos_theta, ny * nz * one_minus_cos + nx * sin_theta],\n",
    "    [nx * nz * one_minus_cos + ny * sin_theta, ny * nz * one_minus_cos - nx * sin_theta, nz**2 * one_minus_cos + cos_theta]\n",
    "]), 3))"
   ]
  },
  {
   "cell_type": "code",
   "execution_count": 30,
   "metadata": {},
   "outputs": [
    {
     "data": {
      "image/png": "[encoded data removed]",
      "text/latex": [
       "$\\displaystyle \\left[\\begin{matrix}2 & 0 & 0\\\\0 & 2 & 0\\\\0 & 0 & 2\\end{matrix}\\right]$"
      ],
      "text/plain": [
       "⎡2  0  0⎤\n",
       "⎢       ⎥\n",
       "⎢0  2  0⎥\n",
       "⎢       ⎥\n",
       "⎣0  0  2⎦"
      ]
     },
     "execution_count": 30,
     "metadata": {},
     "output_type": "execute_result"
    }
   ],
   "source": [
    "# 2\n",
    "k = 2 # samme skaleringsfaktor i alle retninger\n",
    "\n",
    "Matrix(np.array([[k, 0, 0], [0, k, 0], [0, 0, k]]))"
   ]
  },
  {
   "cell_type": "code",
   "execution_count": 33,
   "metadata": {},
   "outputs": [
    {
     "data": {
      "image/png": "[encoded data removed]",
      "text/latex": [
       "$\\displaystyle \\left[\\begin{matrix}1.285 & -0.571 & 0.857\\\\-0.571 & 2.145 & -1.716\\\\0.857 & -1.716 & 3.573\\end{matrix}\\right]$"
      ],
      "text/plain": [
       "⎡1.285   -0.571  0.857 ⎤\n",
       "⎢                      ⎥\n",
       "⎢-0.571  2.145   -1.716⎥\n",
       "⎢                      ⎥\n",
       "⎣0.857   -1.716  3.573 ⎦"
      ]
     },
     "execution_count": 33,
     "metadata": {},
     "output_type": "execute_result"
    }
   ],
   "source": [
    "# 3\n",
    "k = 5\n",
    "n = np.array([0.267, -0.535, 0.802])\n",
    "Matrix(round(np.eye(3) + (k-1) * np.outer(n, n), 3))"
   ]
  },
  {
   "cell_type": "code",
   "execution_count": null,
   "metadata": {},
   "outputs": [
    {
     "data": {
      "image/png": "[encoded data removed]",
      "text/latex": [
       "$\\displaystyle \\left[\\begin{matrix}0.929 & 0.143 & -0.214\\\\0.143 & 0.714 & 0.429\\\\-0.214 & 0.429 & 0.357\\end{matrix}\\right]$"
      ],
      "text/plain": [
       "⎡0.929   0.143  -0.214⎤\n",
       "⎢                     ⎥\n",
       "⎢0.143   0.714  0.429 ⎥\n",
       "⎢                     ⎥\n",
       "⎣-0.214  0.429  0.357 ⎦"
      ]
     },
     "execution_count": 34,
     "metadata": {},
     "output_type": "execute_result"
    }
   ],
   "source": [
    "# 4\n",
    "k = 0\n",
    "n = np.array([0.267, -0.535, 0.802])\n",
    "Matrix(round(np.eye(3) + (k-1) * np.outer(n, n), 3))"
   ]
  },
  {
   "cell_type": "code",
   "execution_count": 35,
   "metadata": {},
   "outputs": [
    {
     "data": {
      "image/png": "[encoded data removed]",
      "text/latex": [
       "$\\displaystyle \\left[\\begin{matrix}0.857 & 0.286 & -0.428\\\\0.286 & 0.428 & 0.858\\\\-0.428 & 0.858 & -0.286\\end{matrix}\\right]$"
      ],
      "text/plain": [
       "⎡0.857   0.286  -0.428⎤\n",
       "⎢                     ⎥\n",
       "⎢0.286   0.428  0.858 ⎥\n",
       "⎢                     ⎥\n",
       "⎣-0.428  0.858  -0.286⎦"
      ]
     },
     "execution_count": 35,
     "metadata": {},
     "output_type": "execute_result"
    }
   ],
   "source": [
    "# 5\n",
    "k = -1\n",
    "n = np.array([0.267, -0.535, 0.802])\n",
    "Matrix(round(np.eye(3) + (k-1) * np.outer(n, n), 3))"
   ]
  },
  {
   "cell_type": "code",
   "execution_count": 61,
   "metadata": {},
   "outputs": [
    {
     "data": {
      "image/png": "[encoded data removed]",
      "text/latex": [
       "$\\displaystyle \\left[\\begin{matrix}0.866 & -0.1875 & -0.4635\\\\0 & 0.927 & -0.375\\\\0.5 & 0.32475 & 0.802782\\end{matrix}\\right]$"
      ],
      "text/plain": [
       "⎡0.866  -0.1875  -0.4635 ⎤\n",
       "⎢                        ⎥\n",
       "⎢  0     0.927    -0.375 ⎥\n",
       "⎢                        ⎥\n",
       "⎣ 0.5   0.32475  0.802782⎦"
      ]
     },
     "execution_count": 61,
     "metadata": {},
     "output_type": "execute_result"
    }
   ],
   "source": [
    "# 6a\n",
    "a2 * a1 # det kan jeg gøre fordi det er SymPy matricer"
   ]
  },
  {
   "cell_type": "code",
   "execution_count": 63,
   "metadata": {},
   "outputs": [
    {
     "data": {
      "text/plain": [
       "array([[ 0.866, -0.187, -0.464],\n",
       "       [ 0.   ,  0.927, -0.375],\n",
       "       [ 0.5  ,  0.324,  0.803]])"
      ]
     },
     "execution_count": 63,
     "metadata": {},
     "output_type": "execute_result"
    }
   ],
   "source": [
    "# Antag det var numpy\n",
    "\n",
    "vx = np.radians(-22)\n",
    "vy = np.radians(30)\n",
    "\n",
    "Rx = np.array([[1, 0, 0], [0, cos(vx), sin(vx)], [0, -sin(vx), cos(vx)]])\n",
    "Ry = np.array([[cos(vy), 0, -sin(vy)], [0, 1, 0], [sin(vy), 0, cos(vy)]])\n",
    "\n",
    "np.round(Ry @ Rx, 3) # matrix multiplikation i numpy"
   ]
  },
  {
   "cell_type": "code",
   "execution_count": 65,
   "metadata": {},
   "outputs": [
    {
     "data": {
      "text/plain": [
       "array([[ 0.8660254 ,  0.        ,  0.5       ],\n",
       "       [-0.1873033 ,  0.92718385,  0.32441883],\n",
       "       [-0.46359193, -0.37460659,  0.80296477]])"
      ]
     },
     "execution_count": 65,
     "metadata": {},
     "output_type": "execute_result"
    }
   ],
   "source": [
    "# 6b\n",
    "\n",
    "Rx.T @ Ry.T # matrix multiplikation i numpy"
   ]
  },
  {
   "cell_type": "code",
   "execution_count": 66,
   "metadata": {},
   "outputs": [
    {
     "data": {
      "text/plain": [
       "array([[ 0.866,  0.   ,  0.5  ],\n",
       "       [-0.187,  0.927,  0.324],\n",
       "       [-0.464, -0.375,  0.803]])"
      ]
     },
     "execution_count": 66,
     "metadata": {},
     "output_type": "execute_result"
    }
   ],
   "source": [
    "# 6b\n",
    "np.round((Ry @ Rx).T, 3)"
   ]
  },
  {
   "cell_type": "code",
   "execution_count": 68,
   "metadata": {},
   "outputs": [
    {
     "data": {
      "text/plain": [
       "array([0.5  , 0.324, 0.803])"
      ]
     },
     "execution_count": 68,
     "metadata": {},
     "output_type": "execute_result"
    }
   ],
   "source": [
    "# 6.c\n",
    "np.round(np.array([0, 0, 1]) @ (Ry @ Rx), 3)"
   ]
  }
 ],
 "metadata": {
  "kernelspec": {
   "display_name": "Python 3",
   "language": "python",
   "name": "python3"
  },
  "language_info": {
   "codemirror_mode": {
    "name": "ipython",
    "version": 3
   },
   "file_extension": ".py",
   "mimetype": "text/x-python",
   "name": "python",
   "nbconvert_exporter": "python",
   "pygments_lexer": "ipython3",
   "version": "3.13.1"
  }
 },
 "nbformat": 4,
 "nbformat_minor": 2
}
