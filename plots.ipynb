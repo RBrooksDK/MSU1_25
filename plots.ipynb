{
 "cells": [
  {
   "cell_type": "code",
   "execution_count": 5,
   "metadata": {},
   "outputs": [
    {
     "name": "stdout",
     "output_type": "stream",
     "text": [
      "Sum using formula: 5050\n",
      "Sum using loop: 5050\n",
      "Sum using sum function: 5050\n"
     ]
    }
   ],
   "source": [
    "# Opgave 1\n",
    "# Using the formula for the sum of the first n natural numbers\n",
    "n = 100\n",
    "sum_formula = n * (n + 1) // 2\n",
    "print(\"Sum using formula:\", sum_formula)\n",
    "\n",
    "# Using a loop\n",
    "sum_loop = 0\n",
    "for i in range(1, 101):\n",
    "    sum_loop += i\n",
    "print(\"Sum using loop:\", sum_loop)\n",
    "\n",
    "sum_function = sum(range(1, n + 1))\n",
    "print(\"Sum using sum function:\", sum_function)"
   ]
  },
  {
   "cell_type": "code",
   "execution_count": 6,
   "metadata": {},
   "outputs": [
    {
     "name": "stdout",
     "output_type": "stream",
     "text": [
      "Distance: 8.558621384311845\n"
     ]
    }
   ],
   "source": [
    "import numpy as np\n",
    "\n",
    "point1 = np.array([-2, -4, 9])\n",
    "point2 = np.array([6, -7, 9.5])\n",
    "\n",
    "distance = np.linalg.norm(point1 - point2)\n",
    "print(\"Distance:\", distance)"
   ]
  },
  {
   "cell_type": "code",
   "execution_count": 7,
   "metadata": {},
   "outputs": [
    {
     "name": "stdout",
     "output_type": "stream",
     "text": [
      "Distance: 20.0\n"
     ]
    }
   ],
   "source": [
    "point1 = np.array([4, -4, -4, 4])\n",
    "point2 = np.array([-6, 6, 6, -6])\n",
    "\n",
    "distance = np.linalg.norm(point1 - point2)\n",
    "print(\"Distance:\", distance)"
   ]
  }
 ],
 "metadata": {
  "kernelspec": {
   "display_name": "Python 3",
   "language": "python",
   "name": "python3"
  },
  "language_info": {
   "codemirror_mode": {
    "name": "ipython",
    "version": 3
   },
   "file_extension": ".py",
   "mimetype": "text/x-python",
   "name": "python",
   "nbconvert_exporter": "python",
   "pygments_lexer": "ipython3",
   "version": "3.13.1"
  }
 },
 "nbformat": 4,
 "nbformat_minor": 2
}
